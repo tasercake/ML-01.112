{
 "cells": [
  {
   "cell_type": "markdown",
   "metadata": {},
   "source": [
    "# K-means Clustering"
   ]
  },
  {
   "cell_type": "code",
   "execution_count": 321,
   "metadata": {},
   "outputs": [
    {
     "name": "stdout",
     "output_type": "stream",
     "text": [
      "Requirement already satisfied: numpy in d:\\programdata\\anaconda3\\envs\\ai\\lib\\site-packages (1.17.2)\n",
      "Requirement already satisfied: pandas in d:\\programdata\\anaconda3\\envs\\ai\\lib\\site-packages (0.25.1)\n",
      "Requirement already satisfied: seaborn in d:\\programdata\\anaconda3\\envs\\ai\\lib\\site-packages (0.9.0)\n",
      "Requirement already satisfied: python-dateutil>=2.6.1 in d:\\programdata\\anaconda3\\envs\\ai\\lib\\site-packages (from pandas) (2.8.0)\n",
      "Requirement already satisfied: pytz>=2017.2 in d:\\programdata\\anaconda3\\envs\\ai\\lib\\site-packages (from pandas) (2019.3)\n",
      "Requirement already satisfied: matplotlib>=1.4.3 in d:\\programdata\\anaconda3\\envs\\ai\\lib\\site-packages (from seaborn) (3.1.1)\n",
      "Requirement already satisfied: scipy>=0.14.0 in d:\\programdata\\anaconda3\\envs\\ai\\lib\\site-packages (from seaborn) (1.3.1)\n",
      "Requirement already satisfied: six>=1.5 in d:\\programdata\\anaconda3\\envs\\ai\\lib\\site-packages (from python-dateutil>=2.6.1->pandas) (1.12.0)\n",
      "Requirement already satisfied: kiwisolver>=1.0.1 in d:\\programdata\\anaconda3\\envs\\ai\\lib\\site-packages (from matplotlib>=1.4.3->seaborn) (1.1.0)\n",
      "Requirement already satisfied: pyparsing!=2.0.4,!=2.1.2,!=2.1.6,>=2.0.1 in d:\\programdata\\anaconda3\\envs\\ai\\lib\\site-packages (from matplotlib>=1.4.3->seaborn) (2.4.2)\n",
      "Requirement already satisfied: cycler>=0.10 in d:\\programdata\\anaconda3\\envs\\ai\\lib\\site-packages (from matplotlib>=1.4.3->seaborn) (0.10.0)\n",
      "Requirement already satisfied: setuptools in d:\\programdata\\anaconda3\\envs\\ai\\lib\\site-packages (from kiwisolver>=1.0.1->matplotlib>=1.4.3->seaborn) (41.4.0)\n"
     ]
    }
   ],
   "source": [
    "!pip install numpy pandas seaborn pillow"
   ]
  },
  {
   "cell_type": "code",
   "execution_count": 331,
   "metadata": {},
   "outputs": [],
   "source": [
    "import itertools\n",
    "import numpy as np\n",
    "import pandas as pd\n",
    "import seaborn as sns\n",
    "import matplotlib.pyplot as plt\n",
    "from IPython.display import display\n",
    "from PIL import Image\n",
    "sns.set()"
   ]
  },
  {
   "cell_type": "code",
   "execution_count": 337,
   "metadata": {},
   "outputs": [
    {
     "data": {
      "text/plain": [
       "array([[129, 108,  61],\n",
       "       [117,  96,  51],\n",
       "       [102,  77,  36],\n",
       "       ...,\n",
       "       [ 81,  36,   7],\n",
       "       [ 71,  31,   6],\n",
       "       [ 66,  31,  11]], dtype=int64)"
      ]
     },
     "execution_count": 337,
     "metadata": {},
     "output_type": "execute_result"
    }
   ],
   "source": [
    "image_path = 'HW2_data/1/hw2-image.txt'\n",
    "image = pd.read_csv(image_path, sep=' ', header=None).to_numpy()\n",
    "image"
   ]
  },
  {
   "cell_type": "code",
   "execution_count": 71,
   "metadata": {},
   "outputs": [],
   "source": [
    "CENTROIDS = np.array([[255, 255, 255],\n",
    "                      [255, 0, 0],\n",
    "                      [128, 0, 0],\n",
    "                      [0, 255, 0],\n",
    "                      [0, 128, 0],\n",
    "                      [0, 0, 255],\n",
    "                      [0, 0, 128],\n",
    "                      [0, 0, 0]])"
   ]
  },
  {
   "cell_type": "code",
   "execution_count": 334,
   "metadata": {},
   "outputs": [],
   "source": [
    "def get_cluster_indices(vectors, centroids):\n",
    "    distances = np.sqrt(((vectors - centroids[:, None]) ** 2).sum(axis=2))\n",
    "    return np.argmin(distances, axis=0)\n",
    "\n",
    "def get_clusters(vectors, centroids):\n",
    "    cluster_indices = get_cluster_indices(vectors, centroids)\n",
    "    return [vectors[cluster_indices == i] for i in range(len(centroids))]\n",
    "\n",
    "def plot_progress(errors):\n",
    "    errors = pd.DataFrame(errors, columns=['Squared Distance'])\n",
    "    errors['Iteration'] = np.arange(len(errors))\n",
    "    ax = sns.lineplot(x='Iteration', y='Squared Distance', data=errors)\n",
    "    print(\"Squared-distance error over each iteration:\")\n",
    "    plt.show()\n",
    "    \n",
    "def show_clustered_image(cluster_indices, centroids, img_shape=(516, 407, 3)):\n",
    "    image = centroids[cluster_indices].astype(np.uint8)\n",
    "    image = Image.fromarray(image.reshape(img_shape))\n",
    "    print(\"Quantized image:\")\n",
    "    display(image)\n",
    "\n",
    "def kmeans(vectors, k, centroids):\n",
    "    assert len(centroids) == k\n",
    "    filler = np.full(centroids.shape[1:], np.inf)\n",
    "    print(f\"Running K-means with {k} initial centroids until convergence...\")\n",
    "    \n",
    "    errors = []\n",
    "    for i in itertools.count():\n",
    "        # Assign each point to the nearest centroid\n",
    "        clusters = get_clusters(vectors, centroids)\n",
    "        # Calculate and store squared-distance error\n",
    "        errors.append(sum([((cluster - centroid) ** 2).sum() for cluster, centroid in zip(clusters, centroids)]))\n",
    "        # Find new centroids\n",
    "        new_centroids = np.array([c.mean(axis=0) if c.any() else filler for c in clusters])\n",
    "        # Print summary and stop after convergence\n",
    "        if np.allclose(centroids, new_centroids):\n",
    "            print(f\"K-means converged after {i + 1} iterations!\")\n",
    "            plot_progress(errors)\n",
    "            centroids = centroids[np.isfinite(centroids).any(axis=1)]\n",
    "            clusters = get_clusters(vectors, centroids)\n",
    "            cluster_indices = get_cluster_indices(vectors, centroids)\n",
    "            show_clustered_image(cluster_indices, centroids)\n",
    "            return centroids, clusters, cluster_indices\n",
    "        centroids = new_centroids"
   ]
  },
  {
   "cell_type": "code",
   "execution_count": 335,
   "metadata": {},
   "outputs": [
    {
     "name": "stdout",
     "output_type": "stream",
     "text": [
      "Running K-means with 8 initial centroids until convergence...\n",
      "K-means converged after 48 iterations!\n",
      "Squared-distance error over each iteration:\n"
     ]
    },
    {
     "data": {
      "image/png": "[encoded data removed]",
      "text/plain": [
       "<Figure size 432x288 with 1 Axes>"
      ]
     },
     "metadata": {},
     "output_type": "display_data"
    },
    {
     "name": "stdout",
     "output_type": "stream",
     "text": [
      "Quantized image:\n"
     ]
    },
    {
     "data": {
      "image/png": "[encoded data removed]",
      "text/plain": [
       "<PIL.Image.Image image mode=RGB size=407x516 at 0x24B2AB817C8>"
      ]
     },
     "metadata": {},
     "output_type": "display_data"
    }
   ],
   "source": [
    "centroids, clusters, cluster_indices = kmeans(image, 8, CENTROIDS)"
   ]
  },
  {
   "cell_type": "code",
   "execution_count": 336,
   "metadata": {
    "scrolled": true
   },
   "outputs": [
    {
     "name": "stdout",
     "output_type": "stream",
     "text": [
      "There are 6 valid centroids:\n",
      "Centroid 1 - [241.2296146  238.62515213 233.86288032] | 4930 pixels\n",
      "Centroid 2 - [194.41158657 136.33311389  90.94364714] | 15190 pixels\n",
      "Centroid 3 - [136.2655563   61.08973066  10.10385457] | 52535 pixels\n",
      "Centroid 4 - [157.29173273  97.59397508  51.43329558] | 22075 pixels\n",
      "Centroid 5 - [78.92743714 37.10828688 13.07070482] | 40365 pixels\n",
      "Centroid 6 - [25.97800232 23.23575423 23.60599063] | 74917 pixels\n"
     ]
    }
   ],
   "source": [
    "print(f\"There are {len(centroids)} valid centroids:\")\n",
    "for i, (centroid, cluster) in enumerate(zip(centroids, clusters)):\n",
    "    print(f\"Centroid {i + 1} - {centroid} | {len(clusters[i])} pixels\")"
   ]
  },
  {
   "cell_type": "code",
   "execution_count": null,
   "metadata": {},
   "outputs": [],
   "source": []
  }
 ],
 "metadata": {
  "kernelspec": {
   "display_name": "Python 3",
   "language": "python",
   "name": "python3"
  },
  "language_info": {
   "codemirror_mode": {
    "name": "ipython",
    "version": 3
   },
   "file_extension": ".py",
   "mimetype": "text/x-python",
   "name": "python",
   "nbconvert_exporter": "python",
   "pygments_lexer": "ipython3",
   "version": "3.7.4"
  }
 },
 "nbformat": 4,
 "nbformat_minor": 2
}
