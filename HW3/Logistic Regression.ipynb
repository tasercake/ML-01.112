{
 "cells": [
  {
   "cell_type": "markdown",
   "metadata": {},
   "source": [
    "Krishna Penukonda\n",
    "\n",
    "1001781"
   ]
  },
  {
   "cell_type": "markdown",
   "metadata": {},
   "source": [
    "# Logistic Regression"
   ]
  },
  {
   "cell_type": "markdown",
   "metadata": {},
   "source": [
    " **Part (a)**:\n",
    "\n",
    "> Probabilities lie in the range `[0, 1]`.\n",
    "\n",
    "> In `Equation 1`, we multiply a potentially large number of probabilities, which would result in a vanishingly small value.\n",
    "> Such values either result in inaccuracies or are computationally expensive to represent.\n",
    "\n",
    "> If in its stead we use `Equation 2`, we could use the more computationally efficient addition operation without running into the vanishing value problem."
   ]
  },
  {
   "cell_type": "markdown",
   "metadata": {},
   "source": [
    "**Part (b)**:"
   ]
  },
  {
   "cell_type": "markdown",
   "metadata": {},
   "source": [
    "## Import Dependencies"
   ]
  },
  {
   "cell_type": "code",
   "execution_count": 937,
   "metadata": {},
   "outputs": [],
   "source": [
    "import os\n",
    "import itertools\n",
    "import numpy as np\n",
    "import pandas as pd\n",
    "import matplotlib.pyplot as plt\n",
    "import seaborn as sns\n",
    "sns.set()\n",
    "\n",
    "eps = np.finfo(np.float64).eps"
   ]
  },
  {
   "cell_type": "markdown",
   "metadata": {},
   "source": [
    "## Define Model"
   ]
  },
  {
   "cell_type": "code",
   "execution_count": 938,
   "metadata": {},
   "outputs": [],
   "source": [
    "class LogisticRegression:\n",
    "    def __init__(self, model_dir=\"model\", save_every=100, plot_every=100):\n",
    "        self.save_every = save_every\n",
    "        self.plot_every = plot_every\n",
    "        self.model_dir = model_dir\n",
    "        os.makedirs(self.model_dir, exist_ok=True)\n",
    "\n",
    "    def concat_ones(self, x):\n",
    "        \"\"\"\n",
    "        Add bias term to feature vector(s)\n",
    "        \"\"\"\n",
    "        concat_shape = (1,) if len(x.shape) == 1 else (len(x), 1)\n",
    "        return np.concatenate((np.ones(concat_shape), x), axis=-1)\n",
    "\n",
    "    def fit(self, features, labels, lr=0.1, iterations=1):\n",
    "        print(f\"If saving is enabled, model parameter checkpoints will be saved to directory '{self.model_dir}'.\")\n",
    "        print(\"Training for {} iterations...\".format(iterations or 'indefinite'))\n",
    "        ll_history = []\n",
    "\n",
    "        assert len(features) == len(labels)\n",
    "        features = self.concat_ones(features)  # Add bias term to feature vectors\n",
    "        self.W = np.zeros((features.shape[1])) # Initialize parameters to 0\n",
    "\n",
    "        for i in itertools.count():  # Enables indefinite training by setting `iterations=0`\n",
    "            if iterations and i == iterations:\n",
    "                break\n",
    "            index = np.random.randint(len(features))\n",
    "            x = features[index]\n",
    "            y_true = labels[index]\n",
    "            y_pred = self.transform(x)\n",
    "            self.W -= lr * (-y_true * x) / (1 + np.exp(y_true * y_pred))\n",
    "\n",
    "            if self.save_every and i % self.save_every == 0:\n",
    "                np.save(f\"model/step_{i}\", self.W)\n",
    "\n",
    "            if self.plot_every and i % self.plot_every == 0:\n",
    "                pred = self.transform(features)\n",
    "                ll = self.log_likelihood(pred, labels)\n",
    "                ll_history.append(ll)\n",
    "\n",
    "        print(\"Finished training.\")\n",
    "        if self.plot_every:\n",
    "            plt.figure(figsize=(14, 8))\n",
    "            plt.plot([i * self.plot_every for i in range(len(ll_history))], ll_history)\n",
    "            plt.xlabel(\"Iteration\")\n",
    "            plt.ylabel(\"Log-Likelihood\")\n",
    "            plt.show()\n",
    "\n",
    "    def transform(self, x):\n",
    "        if x.shape[-1] != self.W.shape[0]:\n",
    "            x = self.concat_ones(x)\n",
    "        return x.dot(self.W)\n",
    "\n",
    "    def log_likelihood(self, y_pred, y_true):\n",
    "        return 1 - np.mean(np.log(1 + np.exp(-y_pred * y_true)), axis=0)\n",
    "\n",
    "    def evaluate(self, features, labels):\n",
    "        y_pred = self.transform(features)\n",
    "        ll = self.log_likelihood(y_pred, labels)\n",
    "        print(\"Log-likelihood:\", ll)"
   ]
  },
  {
   "cell_type": "markdown",
   "metadata": {},
   "source": [
    "## Load Data"
   ]
  },
  {
   "cell_type": "code",
   "execution_count": 939,
   "metadata": {},
   "outputs": [],
   "source": [
    "PATH = \"HW3_data/4/diabetes_train.csv\"\n",
    "data = pd.read_csv(PATH, header=None).to_numpy()\n",
    "x, y = data[:, 1:], data[:, 0]"
   ]
  },
  {
   "cell_type": "markdown",
   "metadata": {},
   "source": [
    "## Train Model"
   ]
  },
  {
   "cell_type": "code",
   "execution_count": 944,
   "metadata": {},
   "outputs": [
    {
     "name": "stdout",
     "output_type": "stream",
     "text": [
      "If saving is enabled, model parameter checkpoints will be saved to directory 'model'.\n",
      "Training for 10000 iterations...\n",
      "Finished training.\n"
     ]
    },
    {
     "data": {
      "image/png": "[encoded data removed]",
      "text/plain": [
       "<Figure size 1008x576 with 1 Axes>"
      ]
     },
     "metadata": {},
     "output_type": "display_data"
    }
   ],
   "source": [
    "model = LogisticRegression()\n",
    "model.fit(x, y, lr=0.1, iterations=10000)"
   ]
  },
  {
   "cell_type": "code",
   "execution_count": 943,
   "metadata": {},
   "outputs": [
    {
     "name": "stdout",
     "output_type": "stream",
     "text": [
      "Log-likelihood: 0.9393573917232596\n"
     ]
    }
   ],
   "source": [
    "model.evaluate(x, y)"
   ]
  }
 ],
 "metadata": {
  "kernelspec": {
   "display_name": "Python 3",
   "language": "python",
   "name": "python3"
  },
  "language_info": {
   "codemirror_mode": {
    "name": "ipython",
    "version": 3
   },
   "file_extension": ".py",
   "mimetype": "text/x-python",
   "name": "python",
   "nbconvert_exporter": "python",
   "pygments_lexer": "ipython3",
   "version": "3.7.4"
  }
 },
 "nbformat": 4,
 "nbformat_minor": 2
}
