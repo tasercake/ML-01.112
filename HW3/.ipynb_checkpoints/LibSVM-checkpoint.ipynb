{
 "cells": [
  {
   "cell_type": "markdown",
   "metadata": {},
   "source": [
    "Krishna Penukonda\n",
    "\n",
    "1001781"
   ]
  },
  {
   "cell_type": "markdown",
   "metadata": {},
   "source": [
    "# LibSVM"
   ]
  },
  {
   "cell_type": "markdown",
   "metadata": {},
   "source": [
    "## Installing LibSVM"
   ]
  },
  {
   "cell_type": "markdown",
   "metadata": {},
   "source": [
    "#### If running on UNIX, run `make`"
   ]
  },
  {
   "cell_type": "code",
   "execution_count": 1,
   "metadata": {},
   "outputs": [
    {
     "name": "stdout",
     "output_type": "stream",
     "text": [
      "Not running on UNIX-like system; Skipping `make`.\n"
     ]
    }
   ],
   "source": [
    "from subprocess import Popen, PIPE\n",
    "import os\n",
    "\n",
    "if os.name == 'posix':\n",
    "    make_process = Popen(['make', '-C', 'libsvm/python/'], stdout=PIPE, stderr=PIPE, encoding='utf8')\n",
    "    stdout, stderr = make_process.communicate()\n",
    "    print(f\"OUTPUT\\n======\\n{stdout or None}\\n======\\n\")\n",
    "    print(f\"ERRORS\\n======\\n{stderr or None}\\n======\\n\")\n",
    "else:\n",
    "    print(\"Not running on UNIX-like system; Skipping `make`.\")"
   ]
  },
  {
   "cell_type": "markdown",
   "metadata": {},
   "source": [
    "#### Add `libsvm` to Python Path"
   ]
  },
  {
   "cell_type": "code",
   "execution_count": 2,
   "metadata": {},
   "outputs": [],
   "source": [
    "import sys\n",
    "sys.path.append('libsvm/python')"
   ]
  },
  {
   "cell_type": "markdown",
   "metadata": {},
   "source": [
    "#### Run sample code to ensure libsvm is correctly installed"
   ]
  },
  {
   "cell_type": "code",
   "execution_count": 3,
   "metadata": {},
   "outputs": [
    {
     "name": "stdout",
     "output_type": "stream",
     "text": [
      "Accuracy = 84.2857% (59/70) (classification)\n"
     ]
    },
    {
     "data": {
      "text/plain": [
       "(84.28571428571429, 0.6285714285714286, 0.463744141163496)"
      ]
     },
     "execution_count": 3,
     "metadata": {},
     "output_type": "execute_result"
    }
   ],
   "source": [
    "from svm import *\n",
    "from svmutil import *\n",
    "\n",
    "y, x = svm_read_problem('libsvm/heart_scale')\n",
    "m = svm_train(y[:200], x[:200], '-c 4')\n",
    "p_label, p_acc, p_val = svm_predict(y[200:], x[200:], m)\n",
    "p_acc"
   ]
  },
  {
   "cell_type": "markdown",
   "metadata": {},
   "source": [
    "## Promoters Problem"
   ]
  },
  {
   "cell_type": "code",
   "execution_count": 12,
   "metadata": {},
   "outputs": [],
   "source": [
    "from svm import *\n",
    "from svmutil import *"
   ]
  },
  {
   "cell_type": "markdown",
   "metadata": {},
   "source": [
    "#### Import Train and Test Data"
   ]
  },
  {
   "cell_type": "code",
   "execution_count": 56,
   "metadata": {},
   "outputs": [],
   "source": [
    "y_train, x_train = svm_read_problem('HW3_data/1/promoters/training.txt')\n",
    "y_test, x_test = svm_read_problem('HW3_data/1/promoters/test.txt')"
   ]
  },
  {
   "cell_type": "markdown",
   "metadata": {},
   "source": [
    "#### Build and Train Models"
   ]
  },
  {
   "cell_type": "code",
   "execution_count": 72,
   "metadata": {},
   "outputs": [
    {
     "data": {
      "text/plain": [
       "{'Linear': <svm.svm_model at 0x1f5a1fa1448>,\n",
       " 'Polynomial': <svm.svm_model at 0x1f5a1f96b48>,\n",
       " 'RBF': <svm.svm_model at 0x1f5a1fba2c8>,\n",
       " 'Sigmoid': <svm.svm_model at 0x1f5a1f929c8>}"
      ]
     },
     "execution_count": 72,
     "metadata": {},
     "output_type": "execute_result"
    }
   ],
   "source": [
    "kernels = {\"Linear\": 0, \"Polynomial\": 1, \"RBF\": 2, \"Sigmoid\": 3}\n",
    "params = {kernel: svm_parameter(f\"-t {kernel_id} -c 4\") for kernel, kernel_id in kernels.items()}\n",
    "models = {kernel: svm_train(svm_problem(y_train, x_train), param) for kernel, param in params.items()}\n",
    "models"
   ]
  },
  {
   "cell_type": "markdown",
   "metadata": {},
   "source": [
    "#### Evaluate Models"
   ]
  },
  {
   "cell_type": "code",
   "execution_count": 79,
   "metadata": {},
   "outputs": [
    {
     "name": "stdout",
     "output_type": "stream",
     "text": [
      "Kernel: Linear\n",
      "Accuracy = 84.375% (27/32) (classification)\n",
      "Kernel: Polynomial\n",
      "Accuracy = 81.25% (26/32) (classification)\n",
      "Kernel: RBF\n",
      "Accuracy = 90.625% (29/32) (classification)\n",
      "Kernel: Sigmoid\n",
      "Accuracy = 84.375% (27/32) (classification)\n"
     ]
    }
   ],
   "source": [
    "for kernel, model in models.items():\n",
    "    print(\"Kernel:\", kernel)\n",
    "    p_label, p_acc, p_val = svm_predict(y_test, x_test, model)"
   ]
  }
 ],
 "metadata": {
  "kernelspec": {
   "display_name": "Python 3",
   "language": "python",
   "name": "python3"
  },
  "language_info": {
   "codemirror_mode": {
    "name": "ipython",
    "version": 3
   },
   "file_extension": ".py",
   "mimetype": "text/x-python",
   "name": "python",
   "nbconvert_exporter": "python",
   "pygments_lexer": "ipython3",
   "version": "3.7.4"
  }
 },
 "nbformat": 4,
 "nbformat_minor": 2
}
