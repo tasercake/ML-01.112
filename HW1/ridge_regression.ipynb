{
 "cells": [
  {
   "cell_type": "markdown",
   "metadata": {},
   "source": [
    "# 3. Ridge Regression"
   ]
  },
  {
   "cell_type": "markdown",
   "metadata": {},
   "source": [
    "##### Krishna Penukonda\n",
    "##### 1001781"
   ]
  },
  {
   "cell_type": "markdown",
   "metadata": {},
   "source": [
    "## Instructions\n",
    "\n",
    "1. Ensure that the `data` folder is in the same directory as this notebook and contains `3/hw1_ridge_y.dat` and `3/hw1_ridge_x.dat`\n",
    "2. Run all cells"
   ]
  },
  {
   "cell_type": "code",
   "execution_count": 1,
   "metadata": {},
   "outputs": [
    {
     "name": "stdout",
     "output_type": "stream",
     "text": [
      "Requirement already satisfied: numpy in d:\\programdata\\anaconda3\\envs\\cv\\lib\\site-packages (1.16.4)\n",
      "Requirement already satisfied: pandas in d:\\programdata\\anaconda3\\envs\\cv\\lib\\site-packages (0.25.1)\n",
      "Requirement already satisfied: matplotlib in d:\\programdata\\anaconda3\\envs\\cv\\lib\\site-packages (3.1.1)\n",
      "Requirement already satisfied: seaborn in d:\\programdata\\anaconda3\\envs\\cv\\lib\\site-packages (0.9.0)\n",
      "Requirement already satisfied: python-dateutil>=2.6.1 in d:\\programdata\\anaconda3\\envs\\cv\\lib\\site-packages (from pandas) (2.8.0)\n",
      "Requirement already satisfied: pytz>=2017.2 in d:\\programdata\\anaconda3\\envs\\cv\\lib\\site-packages (from pandas) (2019.2)\n",
      "Requirement already satisfied: cycler>=0.10 in d:\\programdata\\anaconda3\\envs\\cv\\lib\\site-packages (from matplotlib) (0.10.0)\n",
      "Requirement already satisfied: kiwisolver>=1.0.1 in d:\\programdata\\anaconda3\\envs\\cv\\lib\\site-packages (from matplotlib) (1.1.0)\n",
      "Requirement already satisfied: pyparsing!=2.0.4,!=2.1.2,!=2.1.6,>=2.0.1 in d:\\programdata\\anaconda3\\envs\\cv\\lib\\site-packages (from matplotlib) (2.4.2)\n",
      "Requirement already satisfied: scipy>=0.14.0 in d:\\programdata\\anaconda3\\envs\\cv\\lib\\site-packages (from seaborn) (1.3.1)\n",
      "Requirement already satisfied: six>=1.5 in d:\\programdata\\anaconda3\\envs\\cv\\lib\\site-packages (from python-dateutil>=2.6.1->pandas) (1.12.0)\n",
      "Requirement already satisfied: setuptools in d:\\programdata\\anaconda3\\envs\\cv\\lib\\site-packages (from kiwisolver>=1.0.1->matplotlib) (41.0.1)\n"
     ]
    }
   ],
   "source": [
    "!pip install numpy pandas matplotlib seaborn"
   ]
  },
  {
   "cell_type": "code",
   "execution_count": 2,
   "metadata": {},
   "outputs": [],
   "source": [
    "import numpy as np\n",
    "import pandas as pd\n",
    "import matplotlib.pyplot as plt\n",
    "import seaborn as sns\n",
    "%matplotlib inline\n",
    "sns.set()"
   ]
  },
  {
   "cell_type": "markdown",
   "metadata": {},
   "source": [
    "## Load Data"
   ]
  },
  {
   "cell_type": "code",
   "execution_count": 3,
   "metadata": {},
   "outputs": [],
   "source": [
    "FEATURES_FILE = 'data/3/hw1_ridge_x.dat'\n",
    "LABELS_FILE = 'data/3/hw1_ridge_y.dat'"
   ]
  },
  {
   "cell_type": "code",
   "execution_count": 12,
   "metadata": {},
   "outputs": [
    {
     "data": {
      "text/html": [
       "<div>\n",
       "<style scoped>\n",
       "    .dataframe tbody tr th:only-of-type {\n",
       "        vertical-align: middle;\n",
       "    }\n",
       "\n",
       "    .dataframe tbody tr th {\n",
       "        vertical-align: top;\n",
       "    }\n",
       "\n",
       "    .dataframe thead th {\n",
       "        text-align: right;\n",
       "    }\n",
       "</style>\n",
       "<table border=\"1\" class=\"dataframe\">\n",
       "  <thead>\n",
       "    <tr style=\"text-align: right;\">\n",
       "      <th></th>\n",
       "      <th>x1</th>\n",
       "      <th>x2</th>\n",
       "      <th>x3</th>\n",
       "      <th>x4</th>\n",
       "      <th>y</th>\n",
       "    </tr>\n",
       "  </thead>\n",
       "  <tbody>\n",
       "    <tr>\n",
       "      <td>0</td>\n",
       "      <td>-1.477524</td>\n",
       "      <td>-0.050253</td>\n",
       "      <td>-0.170236</td>\n",
       "      <td>1</td>\n",
       "      <td>-1.139331</td>\n",
       "    </tr>\n",
       "    <tr>\n",
       "      <td>1</td>\n",
       "      <td>0.907090</td>\n",
       "      <td>0.664516</td>\n",
       "      <td>0.478651</td>\n",
       "      <td>1</td>\n",
       "      <td>-1.389563</td>\n",
       "    </tr>\n",
       "    <tr>\n",
       "      <td>2</td>\n",
       "      <td>0.400322</td>\n",
       "      <td>0.432674</td>\n",
       "      <td>-0.435048</td>\n",
       "      <td>1</td>\n",
       "      <td>-1.464279</td>\n",
       "    </tr>\n",
       "    <tr>\n",
       "      <td>3</td>\n",
       "      <td>-1.653651</td>\n",
       "      <td>0.126796</td>\n",
       "      <td>1.002368</td>\n",
       "      <td>1</td>\n",
       "      <td>-0.771402</td>\n",
       "    </tr>\n",
       "    <tr>\n",
       "      <td>4</td>\n",
       "      <td>-1.066913</td>\n",
       "      <td>-0.838428</td>\n",
       "      <td>-0.348881</td>\n",
       "      <td>1</td>\n",
       "      <td>-2.454519</td>\n",
       "    </tr>\n",
       "  </tbody>\n",
       "</table>\n",
       "</div>"
      ],
      "text/plain": [
       "         x1        x2        x3  x4         y\n",
       "0 -1.477524 -0.050253 -0.170236   1 -1.139331\n",
       "1  0.907090  0.664516  0.478651   1 -1.389563\n",
       "2  0.400322  0.432674 -0.435048   1 -1.464279\n",
       "3 -1.653651  0.126796  1.002368   1 -0.771402\n",
       "4 -1.066913 -0.838428 -0.348881   1 -2.454519"
      ]
     },
     "execution_count": 12,
     "metadata": {},
     "output_type": "execute_result"
    }
   ],
   "source": [
    "features = pd.read_csv(FEATURES_FILE, names=['x1', 'x2', 'x3', 'x4'])\n",
    "labels = pd.read_csv(LABELS_FILE, names='y')\n",
    "data = features.join(labels)\n",
    "data.head()"
   ]
  },
  {
   "cell_type": "markdown",
   "metadata": {},
   "source": [
    "## Visualize Data"
   ]
  },
  {
   "cell_type": "code",
   "execution_count": 13,
   "metadata": {},
   "outputs": [
    {
     "data": {
      "image/png": "[encoded data removed]",
      "text/plain": [
       "<Figure size 720x720 with 3 Axes>"
      ]
     },
     "metadata": {
      "needs_background": "light"
     },
     "output_type": "display_data"
    }
   ],
   "source": [
    "plt.figure(figsize=(10, 10))\n",
    "plt.subplot(311)\n",
    "sns.scatterplot('x1', 'y', data=data, color='g')\n",
    "plt.subplot(312)\n",
    "sns.scatterplot('x2', 'y', data=data, color='orange')\n",
    "plt.subplot(313)\n",
    "sns.scatterplot('x3', 'y', data=data, color='black')\n",
    "plt.show()"
   ]
  },
  {
   "cell_type": "markdown",
   "metadata": {},
   "source": [
    "## Split Training and Validation Data"
   ]
  },
  {
   "cell_type": "code",
   "execution_count": 14,
   "metadata": {},
   "outputs": [],
   "source": [
    "x_val, x_train = np.split(features.to_numpy(), [10])\n",
    "y_val, y_train = np.split(labels.to_numpy(), [10])"
   ]
  },
  {
   "cell_type": "markdown",
   "metadata": {},
   "source": [
    "## Perform Ridge Regression"
   ]
  },
  {
   "cell_type": "code",
   "execution_count": 23,
   "metadata": {},
   "outputs": [],
   "source": [
    "def ridge_regress(features, labels, l2):\n",
    "    x = features\n",
    "    W = np.linalg.inv(len(x) * l2 * np.eye(x.shape[-1]) + x.T.dot(x)).dot(x.T).dot(labels)\n",
    "    return W"
   ]
  },
  {
   "cell_type": "markdown",
   "metadata": {},
   "source": [
    "#### Ridge Regression With $\\lambda$ = 0.15"
   ]
  },
  {
   "cell_type": "code",
   "execution_count": 15,
   "metadata": {},
   "outputs": [
    {
     "name": "stdout",
     "output_type": "stream",
     "text": [
      "Weights: [[-0.57939825]\n",
      " [ 1.15033028]\n",
      " [ 0.04934122]\n",
      " [-1.59867896]]\n"
     ]
    }
   ],
   "source": [
    "weights = ridge_regress(x_train, y_train, 0.15)\n",
    "print(f\"Weights: {weights}\")"
   ]
  },
  {
   "cell_type": "markdown",
   "metadata": {},
   "source": [
    "## Determining the Optimal Value of $\\lambda$"
   ]
  },
  {
   "cell_type": "code",
   "execution_count": 9,
   "metadata": {},
   "outputs": [],
   "source": [
    "def mse(x, w, y):\n",
    "    return np.sum((x.dot(w) - y) ** 2)  / (2 * len(x))"
   ]
  },
  {
   "cell_type": "code",
   "execution_count": 40,
   "metadata": {},
   "outputs": [],
   "source": [
    "lambdas = np.power(10, -np.arange(0, 5, 0.1))[::-1]\n",
    "n_train = len(x_train)\n",
    "n_val = len(x_val)\n",
    "weights = [ridge_regress(x_train, y_train, l) for l in lambdas]\n",
    "train_loss = [mse(x_train, w, y_train) for w in weights]\n",
    "val_loss = [mse(x_val, w, y_val) for w in weights]"
   ]
  },
  {
   "cell_type": "markdown",
   "metadata": {},
   "source": [
    "If we assume the best value of $\\lambda$ to be the value at which `val_loss` is minimized, we can determine the optimal value of $\\lambda$ as follows:"
   ]
  },
  {
   "cell_type": "code",
   "execution_count": 41,
   "metadata": {},
   "outputs": [
    {
     "name": "stdout",
     "output_type": "stream",
     "text": [
      "Best λ: 0.012589254117941668\n"
     ]
    }
   ],
   "source": [
    "best_lambda = lambdas[np.argmin(np.array(val_loss))]\n",
    "print(f\"Best λ: {best_lambda}\")"
   ]
  },
  {
   "cell_type": "code",
   "execution_count": 42,
   "metadata": {},
   "outputs": [
    {
     "data": {
      "image/png": "[encoded data removed]",
      "text/plain": [
       "<Figure size 432x288 with 1 Axes>"
      ]
     },
     "metadata": {
      "needs_background": "light"
     },
     "output_type": "display_data"
    }
   ],
   "source": [
    "ax = sns.lineplot(lambdas, train_loss, label='Train Loss')\n",
    "ax = sns.lineplot(lambdas, val_loss, label='Val Loss')\n",
    "ax.set_xscale('log')\n",
    "ax.set_yscale('log')\n",
    "ax.set_xlabel('Regularization Parameter (λ)')\n",
    "ax.set_ylabel('MSE Loss')\n",
    "ax.axvline(best_lambda, color='g', linestyle='--')\n",
    "plt.legend()\n",
    "plt.show()"
   ]
  }
 ],
 "metadata": {
  "kernelspec": {
   "display_name": "Python 3",
   "language": "python",
   "name": "python3"
  },
  "language_info": {
   "codemirror_mode": {
    "name": "ipython",
    "version": 3
   },
   "file_extension": ".py",
   "mimetype": "text/x-python",
   "name": "python",
   "nbconvert_exporter": "python",
   "pygments_lexer": "ipython3",
   "version": "3.7.3"
  }
 },
 "nbformat": 4,
 "nbformat_minor": 2
}
