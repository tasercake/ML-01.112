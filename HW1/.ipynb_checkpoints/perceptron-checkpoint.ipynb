{
 "cells": [
  {
   "cell_type": "markdown",
   "metadata": {},
   "source": [
    "# 1. Perceptron"
   ]
  },
  {
   "cell_type": "markdown",
   "metadata": {},
   "source": [
    "##### Krishna Penukonda\n",
    "##### 1001781"
   ]
  },
  {
   "cell_type": "markdown",
   "metadata": {},
   "source": [
    "## Instructions\n",
    "\n",
    "1. Ensure that the `data` folder is in the same directory as this notebook and contains `1/train_1_5.csv` and `1/test_1_5.csv`\n",
    "2. Run all cells"
   ]
  },
  {
   "cell_type": "markdown",
   "metadata": {},
   "source": [
    "## Install and Import Dependencies"
   ]
  },
  {
   "cell_type": "code",
   "execution_count": 1,
   "metadata": {},
   "outputs": [
    {
     "name": "stdout",
     "output_type": "stream",
     "text": [
      "Requirement already satisfied: numpy in d:\\programdata\\anaconda3\\envs\\cv\\lib\\site-packages (1.16.4)\n",
      "Requirement already satisfied: pandas in d:\\programdata\\anaconda3\\envs\\cv\\lib\\site-packages (0.25.1)\n",
      "Requirement already satisfied: python-dateutil>=2.6.1 in d:\\programdata\\anaconda3\\envs\\cv\\lib\\site-packages (from pandas) (2.8.0)\n",
      "Requirement already satisfied: pytz>=2017.2 in d:\\programdata\\anaconda3\\envs\\cv\\lib\\site-packages (from pandas) (2019.2)\n",
      "Requirement already satisfied: six>=1.5 in d:\\programdata\\anaconda3\\envs\\cv\\lib\\site-packages (from python-dateutil>=2.6.1->pandas) (1.12.0)\n"
     ]
    }
   ],
   "source": [
    "!pip install numpy pandas"
   ]
  },
  {
   "cell_type": "code",
   "execution_count": 2,
   "metadata": {},
   "outputs": [],
   "source": [
    "import numpy as np\n",
    "import pandas as pd"
   ]
  },
  {
   "cell_type": "markdown",
   "metadata": {},
   "source": [
    "## Load Data"
   ]
  },
  {
   "cell_type": "code",
   "execution_count": 3,
   "metadata": {},
   "outputs": [],
   "source": [
    "TRAIN_FILE = 'data/1/train_1_5.csv'\n",
    "TEST_FILE = 'data/1/test_1_5.csv'"
   ]
  },
  {
   "cell_type": "markdown",
   "metadata": {},
   "source": [
    "#### Training Data"
   ]
  },
  {
   "cell_type": "code",
   "execution_count": 4,
   "metadata": {},
   "outputs": [
    {
     "data": {
      "text/html": [
       "<div>\n",
       "<style scoped>\n",
       "    .dataframe tbody tr th:only-of-type {\n",
       "        vertical-align: middle;\n",
       "    }\n",
       "\n",
       "    .dataframe tbody tr th {\n",
       "        vertical-align: top;\n",
       "    }\n",
       "\n",
       "    .dataframe thead th {\n",
       "        text-align: right;\n",
       "    }\n",
       "</style>\n",
       "<table border=\"1\" class=\"dataframe\">\n",
       "  <thead>\n",
       "    <tr style=\"text-align: right;\">\n",
       "      <th></th>\n",
       "      <th>mean</th>\n",
       "      <th>symmetry</th>\n",
       "      <th>label</th>\n",
       "    </tr>\n",
       "  </thead>\n",
       "  <tbody>\n",
       "    <tr>\n",
       "      <td>0</td>\n",
       "      <td>-0.725767</td>\n",
       "      <td>0.022763</td>\n",
       "      <td>1.0</td>\n",
       "    </tr>\n",
       "    <tr>\n",
       "      <td>1</td>\n",
       "      <td>-0.811273</td>\n",
       "      <td>0.035524</td>\n",
       "      <td>1.0</td>\n",
       "    </tr>\n",
       "    <tr>\n",
       "      <td>2</td>\n",
       "      <td>-0.763794</td>\n",
       "      <td>0.018471</td>\n",
       "      <td>1.0</td>\n",
       "    </tr>\n",
       "    <tr>\n",
       "      <td>3</td>\n",
       "      <td>-0.720302</td>\n",
       "      <td>0.056489</td>\n",
       "      <td>1.0</td>\n",
       "    </tr>\n",
       "    <tr>\n",
       "      <td>4</td>\n",
       "      <td>-0.315630</td>\n",
       "      <td>0.489584</td>\n",
       "      <td>-1.0</td>\n",
       "    </tr>\n",
       "  </tbody>\n",
       "</table>\n",
       "</div>"
      ],
      "text/plain": [
       "       mean  symmetry  label\n",
       "0 -0.725767  0.022763    1.0\n",
       "1 -0.811273  0.035524    1.0\n",
       "2 -0.763794  0.018471    1.0\n",
       "3 -0.720302  0.056489    1.0\n",
       "4 -0.315630  0.489584   -1.0"
      ]
     },
     "execution_count": 4,
     "metadata": {},
     "output_type": "execute_result"
    }
   ],
   "source": [
    "train_df = pd.read_csv(TRAIN_FILE, names=['mean', 'symmetry', 'label'])\n",
    "train_features = train_df[['mean', 'symmetry']].to_numpy()\n",
    "train_labels = train_df['label'].to_numpy()\n",
    "train_df.head()"
   ]
  },
  {
   "cell_type": "markdown",
   "metadata": {},
   "source": [
    "#### Test Data"
   ]
  },
  {
   "cell_type": "code",
   "execution_count": 5,
   "metadata": {},
   "outputs": [
    {
     "data": {
      "text/html": [
       "<div>\n",
       "<style scoped>\n",
       "    .dataframe tbody tr th:only-of-type {\n",
       "        vertical-align: middle;\n",
       "    }\n",
       "\n",
       "    .dataframe tbody tr th {\n",
       "        vertical-align: top;\n",
       "    }\n",
       "\n",
       "    .dataframe thead th {\n",
       "        text-align: right;\n",
       "    }\n",
       "</style>\n",
       "<table border=\"1\" class=\"dataframe\">\n",
       "  <thead>\n",
       "    <tr style=\"text-align: right;\">\n",
       "      <th></th>\n",
       "      <th>mean</th>\n",
       "      <th>symmetry</th>\n",
       "      <th>label</th>\n",
       "    </tr>\n",
       "  </thead>\n",
       "  <tbody>\n",
       "    <tr>\n",
       "      <td>0</td>\n",
       "      <td>-0.551897</td>\n",
       "      <td>0.071675</td>\n",
       "      <td>1.0</td>\n",
       "    </tr>\n",
       "    <tr>\n",
       "      <td>1</td>\n",
       "      <td>-0.752347</td>\n",
       "      <td>0.040738</td>\n",
       "      <td>1.0</td>\n",
       "    </tr>\n",
       "    <tr>\n",
       "      <td>2</td>\n",
       "      <td>-0.736452</td>\n",
       "      <td>0.087617</td>\n",
       "      <td>1.0</td>\n",
       "    </tr>\n",
       "    <tr>\n",
       "      <td>3</td>\n",
       "      <td>-0.718523</td>\n",
       "      <td>0.072174</td>\n",
       "      <td>1.0</td>\n",
       "    </tr>\n",
       "    <tr>\n",
       "      <td>4</td>\n",
       "      <td>-0.681187</td>\n",
       "      <td>0.044814</td>\n",
       "      <td>1.0</td>\n",
       "    </tr>\n",
       "  </tbody>\n",
       "</table>\n",
       "</div>"
      ],
      "text/plain": [
       "       mean  symmetry  label\n",
       "0 -0.551897  0.071675    1.0\n",
       "1 -0.752347  0.040738    1.0\n",
       "2 -0.736452  0.087617    1.0\n",
       "3 -0.718523  0.072174    1.0\n",
       "4 -0.681187  0.044814    1.0"
      ]
     },
     "execution_count": 5,
     "metadata": {},
     "output_type": "execute_result"
    }
   ],
   "source": [
    "test_df = pd.read_csv(TEST_FILE, names=['mean', 'symmetry', 'label'])\n",
    "test_features = test_df[['mean', 'symmetry']].to_numpy()\n",
    "test_labels = test_df['label'].to_numpy()\n",
    "test_df.head()"
   ]
  },
  {
   "cell_type": "markdown",
   "metadata": {},
   "source": [
    "## Define Perceptron"
   ]
  },
  {
   "cell_type": "markdown",
   "metadata": {},
   "source": [
    "This perceptron model includes a `bias` term.\n",
    "\n",
    "The bias term is implemented as an additional parameter in the weights vector.\n",
    "\n",
    "A `1` is prepended to each input feature vector to emulate the addition of the bias term."
   ]
  },
  {
   "cell_type": "code",
   "execution_count": 28,
   "metadata": {},
   "outputs": [],
   "source": [
    "def train_perceptron(features, labels, loss_fn, iterations):\n",
    "    # Add column vector of 1 to represent bias term addition\n",
    "    features = np.insert(features, 0, 1, axis=-1)\n",
    "    # Initialize parameters\n",
    "    W = np.zeros((len(features[0]),))\n",
    "    for i, (x, y) in enumerate(zip(features, labels)):\n",
    "        if iterations and (i == iterations):\n",
    "            break\n",
    "        # Forward pass (y = x * W)\n",
    "        prediction = np.dot(x, W)\n",
    "        # Update parameters\n",
    "        loss = loss_fn(prediction, y)\n",
    "        W += loss * y * x\n",
    "    return W\n",
    "\n",
    "def eval_perceptron(W, features, labels, metric_fn):\n",
    "    features = [np.insert(x, 0, 1) for x in features]\n",
    "    predictions = [np.dot(x, W) for x in features]\n",
    "    predictions = [1 if p >= 0 else -1  for p in predictions]\n",
    "    return metric_fn(predictions, labels)\n",
    "\n",
    "def perceptron_loss(y_pred, y_true):\n",
    "    \"\"\"\n",
    "    0 if prediction and label have the same sign\n",
    "    1 otherwise\n",
    "    \"\"\"\n",
    "    return int((y_pred < 0) != (y_true < 0))\n",
    "\n",
    "def accuracy(predictions, labels):\n",
    "    matches = [y_pred == y_true for y_pred, y_true in zip(predictions, labels)]\n",
    "    return sum(matches) / len(matches)"
   ]
  },
  {
   "cell_type": "markdown",
   "metadata": {},
   "source": [
    "## Train and Evaluate Perceptron"
   ]
  },
  {
   "cell_type": "markdown",
   "metadata": {},
   "source": [
    "#### 5 Training Iterations"
   ]
  },
  {
   "cell_type": "code",
   "execution_count": 29,
   "metadata": {},
   "outputs": [
    {
     "name": "stdout",
     "output_type": "stream",
     "text": [
      "Weights: [-1.          0.31563044 -0.4895839 ]\n",
      "Accuracy after 5 training iterations: 0.35429141716566864\n"
     ]
    }
   ],
   "source": [
    "weights = train_perceptron(train_features, train_labels, perceptron_loss, 5)\n",
    "print(\"Weights:\", weights)\n",
    "acc = eval_perceptron(weights, test_features, test_labels, accuracy)\n",
    "print(\"Accuracy after 5 training iterations:\", acc)"
   ]
  },
  {
   "cell_type": "markdown",
   "metadata": {},
   "source": [
    "#### 10 Training Iterations"
   ]
  },
  {
   "cell_type": "code",
   "execution_count": 30,
   "metadata": {},
   "outputs": [
    {
     "name": "stdout",
     "output_type": "stream",
     "text": [
      "Weights: [ 0.         -0.2661754  -0.45847199]\n",
      "Accuracy after 10 training iterations: 0.9391217564870259\n"
     ]
    }
   ],
   "source": [
    "weights = train_perceptron(train_features, train_labels, perceptron_loss, 10)\n",
    "print(\"Weights:\", weights)\n",
    "acc = eval_perceptron(weights, test_features, test_labels, accuracy)\n",
    "print(\"Accuracy after 10 training iterations:\", acc)"
   ]
  }
 ],
 "metadata": {
  "kernelspec": {
   "display_name": "Python 3",
   "language": "python",
   "name": "python3"
  },
  "language_info": {
   "codemirror_mode": {
    "name": "ipython",
    "version": 3
   },
   "file_extension": ".py",
   "mimetype": "text/x-python",
   "name": "python",
   "nbconvert_exporter": "python",
   "pygments_lexer": "ipython3",
   "version": "3.7.3"
  }
 },
 "nbformat": 4,
 "nbformat_minor": 2
}
