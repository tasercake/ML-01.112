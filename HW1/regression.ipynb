{
 "cells": [
  {
   "cell_type": "markdown",
   "metadata": {},
   "source": [
    "# 2. Linear and Polynomial Regression"
   ]
  },
  {
   "cell_type": "markdown",
   "metadata": {},
   "source": [
    "##### Krishna Penukonda\n",
    "##### 1001781"
   ]
  },
  {
   "cell_type": "markdown",
   "metadata": {},
   "source": [
    "## Instructions\n",
    "\n",
    "1. Ensure that the `data` folder is in the same directory as this notebook and contains `2/hw1x.dat` and `2/hw1y.dat`\n",
    "2. Run all cells"
   ]
  },
  {
   "cell_type": "code",
   "execution_count": 1,
   "metadata": {},
   "outputs": [
    {
     "name": "stdout",
     "output_type": "stream",
     "text": [
      "Requirement already satisfied: numpy in d:\\programdata\\anaconda3\\envs\\cv\\lib\\site-packages (1.16.4)\n",
      "Requirement already satisfied: pandas in d:\\programdata\\anaconda3\\envs\\cv\\lib\\site-packages (0.25.1)\n",
      "Requirement already satisfied: matplotlib in d:\\programdata\\anaconda3\\envs\\cv\\lib\\site-packages (3.1.1)\n",
      "Requirement already satisfied: seaborn in d:\\programdata\\anaconda3\\envs\\cv\\lib\\site-packages (0.9.0)\n",
      "Requirement already satisfied: python-dateutil>=2.6.1 in d:\\programdata\\anaconda3\\envs\\cv\\lib\\site-packages (from pandas) (2.8.0)\n",
      "Requirement already satisfied: pytz>=2017.2 in d:\\programdata\\anaconda3\\envs\\cv\\lib\\site-packages (from pandas) (2019.2)\n",
      "Requirement already satisfied: cycler>=0.10 in d:\\programdata\\anaconda3\\envs\\cv\\lib\\site-packages (from matplotlib) (0.10.0)\n",
      "Requirement already satisfied: kiwisolver>=1.0.1 in d:\\programdata\\anaconda3\\envs\\cv\\lib\\site-packages (from matplotlib) (1.1.0)\n",
      "Requirement already satisfied: pyparsing!=2.0.4,!=2.1.2,!=2.1.6,>=2.0.1 in d:\\programdata\\anaconda3\\envs\\cv\\lib\\site-packages (from matplotlib) (2.4.2)\n",
      "Requirement already satisfied: scipy>=0.14.0 in d:\\programdata\\anaconda3\\envs\\cv\\lib\\site-packages (from seaborn) (1.3.1)\n",
      "Requirement already satisfied: six>=1.5 in d:\\programdata\\anaconda3\\envs\\cv\\lib\\site-packages (from python-dateutil>=2.6.1->pandas) (1.12.0)\n",
      "Requirement already satisfied: setuptools in d:\\programdata\\anaconda3\\envs\\cv\\lib\\site-packages (from kiwisolver>=1.0.1->matplotlib) (41.0.1)\n"
     ]
    }
   ],
   "source": [
    "!pip install numpy pandas matplotlib seaborn"
   ]
  },
  {
   "cell_type": "code",
   "execution_count": 2,
   "metadata": {},
   "outputs": [],
   "source": [
    "import numpy as np\n",
    "import pandas as pd\n",
    "import matplotlib.pyplot as plt\n",
    "import seaborn as sns\n",
    "%matplotlib inline\n",
    "sns.set()"
   ]
  },
  {
   "cell_type": "markdown",
   "metadata": {},
   "source": [
    "## Load Data"
   ]
  },
  {
   "cell_type": "code",
   "execution_count": 3,
   "metadata": {},
   "outputs": [],
   "source": [
    "FEATURES_FILE = 'data/2/hw1x.dat'\n",
    "LABELS_FILE = 'data/2/hw1y.dat'"
   ]
  },
  {
   "cell_type": "code",
   "execution_count": 4,
   "metadata": {},
   "outputs": [
    {
     "data": {
      "text/html": [
       "<div>\n",
       "<style scoped>\n",
       "    .dataframe tbody tr th:only-of-type {\n",
       "        vertical-align: middle;\n",
       "    }\n",
       "\n",
       "    .dataframe tbody tr th {\n",
       "        vertical-align: top;\n",
       "    }\n",
       "\n",
       "    .dataframe thead th {\n",
       "        text-align: right;\n",
       "    }\n",
       "</style>\n",
       "<table border=\"1\" class=\"dataframe\">\n",
       "  <thead>\n",
       "    <tr style=\"text-align: right;\">\n",
       "      <th></th>\n",
       "      <th>x</th>\n",
       "      <th>y</th>\n",
       "    </tr>\n",
       "  </thead>\n",
       "  <tbody>\n",
       "    <tr>\n",
       "      <td>0</td>\n",
       "      <td>0.01</td>\n",
       "      <td>3.557667</td>\n",
       "    </tr>\n",
       "    <tr>\n",
       "      <td>1</td>\n",
       "      <td>0.02</td>\n",
       "      <td>4.873885</td>\n",
       "    </tr>\n",
       "    <tr>\n",
       "      <td>2</td>\n",
       "      <td>0.03</td>\n",
       "      <td>0.801153</td>\n",
       "    </tr>\n",
       "    <tr>\n",
       "      <td>3</td>\n",
       "      <td>0.04</td>\n",
       "      <td>3.942173</td>\n",
       "    </tr>\n",
       "    <tr>\n",
       "      <td>4</td>\n",
       "      <td>0.05</td>\n",
       "      <td>3.418765</td>\n",
       "    </tr>\n",
       "  </tbody>\n",
       "</table>\n",
       "</div>"
      ],
      "text/plain": [
       "      x         y\n",
       "0  0.01  3.557667\n",
       "1  0.02  4.873885\n",
       "2  0.03  0.801153\n",
       "3  0.04  3.942173\n",
       "4  0.05  3.418765"
      ]
     },
     "execution_count": 4,
     "metadata": {},
     "output_type": "execute_result"
    }
   ],
   "source": [
    "features = pd.read_csv(FEATURES_FILE, names=['x'])\n",
    "labels = pd.read_csv(LABELS_FILE, names=['y'])\n",
    "data = features.join(labels)\n",
    "data.head()"
   ]
  },
  {
   "cell_type": "markdown",
   "metadata": {},
   "source": [
    "#### Helper Functions"
   ]
  },
  {
   "cell_type": "code",
   "execution_count": 5,
   "metadata": {},
   "outputs": [],
   "source": [
    "def plot_polynomial(xmin, xmax, coeffs, num=100):\n",
    "    plot_x = np.linspace(x.min(), x.max(), num=num)\n",
    "    plot_y = np.polynomial.polynomial.polyval(plot_x, coeffs, tensor=False)\n",
    "    return sns.lineplot(plot_x, plot_y)\n",
    "\n",
    "def training_error(x, coeffs, y_true):\n",
    "    y_pred = np.polynomial.polynomial.polyval(x, coeffs)\n",
    "    errors = ((y_true - y_pred) ** 2) / 2\n",
    "    return np.sum(errors)"
   ]
  },
  {
   "cell_type": "markdown",
   "metadata": {},
   "source": [
    "## Visualize Data"
   ]
  },
  {
   "cell_type": "code",
   "execution_count": 6,
   "metadata": {},
   "outputs": [
    {
     "data": {
      "image/png": "[encoded data removed]",
      "text/plain": [
       "<Figure size 432x288 with 1 Axes>"
      ]
     },
     "metadata": {
      "needs_background": "light"
     },
     "output_type": "display_data"
    }
   ],
   "source": [
    "sns.scatterplot('x', 'y', data=data)\n",
    "plt.show()"
   ]
  },
  {
   "cell_type": "markdown",
   "metadata": {},
   "source": [
    "## Closed-Form Linear Regression"
   ]
  },
  {
   "cell_type": "code",
   "execution_count": 7,
   "metadata": {},
   "outputs": [],
   "source": [
    "def linear_regress_closed(features, labels):\n",
    "    x = np.power(features, [0, 1])\n",
    "    W = np.linalg.inv(x.T.dot(x)).dot(x.T).dot(labels)\n",
    "    return W"
   ]
  },
  {
   "cell_type": "code",
   "execution_count": 8,
   "metadata": {},
   "outputs": [
    {
     "name": "stdout",
     "output_type": "stream",
     "text": [
      "Closed-form Linear Regression Coefficients:\n",
      "[[3.2447227 ]\n",
      " [1.78157138]]\n"
     ]
    }
   ],
   "source": [
    "# Compute weights\n",
    "x, y = features.to_numpy(), labels.to_numpy()\n",
    "weights = linear_regress_closed(x, y)\n",
    "print(f\"Closed-form Linear Regression Coefficients:\\n{weights}\")"
   ]
  },
  {
   "cell_type": "code",
   "execution_count": 9,
   "metadata": {},
   "outputs": [
    {
     "data": {
      "image/png": "[encoded data removed]",
      "text/plain": [
       "<Figure size 432x288 with 1 Axes>"
      ]
     },
     "metadata": {
      "needs_background": "light"
     },
     "output_type": "display_data"
    }
   ],
   "source": [
    "# Plot Regression Line\n",
    "sns.scatterplot('x', 'y', data=data)\n",
    "plot_polynomial(x.min(), x.max(), weights)\n",
    "plt.show()"
   ]
  },
  {
   "cell_type": "code",
   "execution_count": 10,
   "metadata": {},
   "outputs": [
    {
     "name": "stdout",
     "output_type": "stream",
     "text": [
      "Empirical Risk = 116.25212\n"
     ]
    }
   ],
   "source": [
    "# Calculate Training Error\n",
    "error = training_error(x, weights, y)\n",
    "print(f\"Empirical Risk = {error:.5f}\")"
   ]
  },
  {
   "cell_type": "markdown",
   "metadata": {},
   "source": [
    "## Gradient Descent-based Linear Regression"
   ]
  },
  {
   "cell_type": "code",
   "execution_count": 11,
   "metadata": {},
   "outputs": [],
   "source": [
    "def linear_regress_gd(features, labels, lr=0.01, iterations=5, stochastic=False):\n",
    "    if stochastic:\n",
    "        indices = np.random.permutation(len(features))\n",
    "        features = features[indices]\n",
    "        labels = labels[indices]\n",
    "    features = np.power(features, [0, 1])\n",
    "    W = np.zeros((2,))\n",
    "    samples = len(features)\n",
    "    for i, (x, y_true) in enumerate(zip(features, labels)):\n",
    "        if iterations and i == iterations:\n",
    "            break\n",
    "        y_pred = np.dot(x, W)\n",
    "        error = y_true - y_pred\n",
    "        gradient = -(2 / samples) * error * x\n",
    "        W -= gradient\n",
    "        print(\n",
    "            f\"Iteration {i + 1} | \"\n",
    "            f\"Parameters: {W} | \"\n",
    "            f\"Training error: {training_error(features, W, labels):.2f}\"\n",
    "        )\n",
    "    return W"
   ]
  },
  {
   "cell_type": "code",
   "execution_count": 21,
   "metadata": {},
   "outputs": [
    {
     "name": "stdout",
     "output_type": "stream",
     "text": [
      "Iteration 1 | Parameters: [0.03557667 0.00035577] | Training error: 5442.59\n",
      "Iteration 2 | Parameters: [0.08395968 0.00132343] | Training error: 5344.27\n",
      "Iteration 3 | Parameters: [0.09113122 0.00153857] | Training error: 5329.63\n",
      "Iteration 4 | Parameters: [0.12964103 0.00307897] | Training error: 5250.58\n",
      "Iteration 5 | Parameters: [0.16253073 0.00472345] | Training error: 5182.90\n",
      "Iteration 6 | Parameters: [0.1790257  0.00571315] | Training error: 5148.79\n",
      "Iteration 7 | Parameters: [0.20429553 0.00748204] | Training error: 5096.26\n",
      "Iteration 8 | Parameters: [0.23727283 0.01012022] | Training error: 5027.47\n",
      "Iteration 9 | Parameters: [0.30247496 0.01598841] | Training error: 4891.66\n",
      "Iteration 10 | Parameters: [0.3591286  0.02165378] | Training error: 4774.17\n",
      "Iteration 11 | Parameters: [0.37421462 0.02331324] | Training error: 4742.84\n",
      "Iteration 12 | Parameters: [0.43319373 0.03039073] | Training error: 4620.32\n",
      "Iteration 13 | Parameters: [0.46867633 0.03500347] | Training error: 4546.76\n",
      "Iteration 14 | Parameters: [0.49611001 0.03884419] | Training error: 4489.81\n",
      "Iteration 15 | Parameters: [0.53123808 0.0441134 ] | Training error: 4416.78\n",
      "Iteration 16 | Parameters: [0.55700545 0.04823618] | Training error: 4363.14\n",
      "Iteration 17 | Parameters: [0.58351195 0.05274228] | Training error: 4307.84\n",
      "Iteration 18 | Parameters: [0.62607888 0.06040433] | Training error: 4219.05\n",
      "Iteration 19 | Parameters: [0.66759366 0.06829214] | Training error: 4132.67\n",
      "Iteration 20 | Parameters: [0.70895307 0.07656402] | Training error: 4046.84\n",
      "Iteration 21 | Parameters: [0.74261772 0.08363359] | Training error: 3977.10\n",
      "Iteration 22 | Parameters: [0.75733268 0.08687089] | Training error: 3946.56\n",
      "Iteration 23 | Parameters: [0.79133194 0.09469071] | Training error: 3875.90\n",
      "Iteration 24 | Parameters: [0.83429372 0.10500154] | Training error: 3786.86\n",
      "Iteration 25 | Parameters: [0.86557721 0.11282241] | Training error: 3722.19\n",
      "Iteration 26 | Parameters: [0.90217503 0.12233785] | Training error: 3646.70\n",
      "Iteration 27 | Parameters: [0.93549182 0.13133338] | Training error: 3578.16\n",
      "Iteration 28 | Parameters: [0.95833476 0.1377294 ] | Training error: 3531.19\n",
      "Iteration 29 | Parameters: [0.98709071 0.14606863] | Training error: 3472.08\n",
      "Iteration 30 | Parameters: [1.00490877 0.15141405] | Training error: 3435.43\n",
      "Iteration 31 | Parameters: [1.03947426 0.16212935] | Training error: 3364.39\n",
      "Iteration 32 | Parameters: [1.05349    0.16661439] | Training error: 3335.59\n",
      "Iteration 33 | Parameters: [1.06831657 0.17150715] | Training error: 3305.04\n",
      "Iteration 34 | Parameters: [1.08575529 0.17743632] | Training error: 3269.02\n",
      "Iteration 35 | Parameters: [1.08183387 0.17606382] | Training error: 3277.16\n",
      "Iteration 36 | Parameters: [1.1219655  0.19051121] | Training error: 3193.71\n",
      "Iteration 37 | Parameters: [1.15069286 0.20114033] | Training error: 3134.26\n",
      "Iteration 38 | Parameters: [1.16847232 0.20789653] | Training error: 3097.50\n",
      "Iteration 39 | Parameters: [1.20747978 0.22310944] | Training error: 3017.10\n",
      "Iteration 40 | Parameters: [1.21539738 0.22627648] | Training error: 3000.81\n",
      "Iteration 41 | Parameters: [1.23949325 0.23615578] | Training error: 2951.15\n",
      "Iteration 42 | Parameters: [1.26209199 0.24564726] | Training error: 2904.67\n",
      "Iteration 43 | Parameters: [1.29020686 0.25773665] | Training error: 2847.00\n",
      "Iteration 44 | Parameters: [1.31809933 0.27000934] | Training error: 2790.02\n",
      "Iteration 45 | Parameters: [1.3340545  0.27718916] | Training error: 2757.49\n",
      "Iteration 46 | Parameters: [1.35833837 0.28835974] | Training error: 2708.04\n",
      "Iteration 47 | Parameters: [1.38115091 0.29908163] | Training error: 2661.72\n",
      "Iteration 48 | Parameters: [1.41178088 0.31378402] | Training error: 2599.81\n",
      "Iteration 49 | Parameters: [1.44685818 0.3309719 ] | Training error: 2529.46\n",
      "Iteration 50 | Parameters: [1.48182748 0.34845655] | Training error: 2459.94\n",
      "Iteration 51 | Parameters: [1.49679555 0.35609026] | Training error: 2430.33\n",
      "Iteration 52 | Parameters: [1.52114951 0.36875432] | Training error: 2382.26\n",
      "Iteration 53 | Parameters: [1.53244245 0.37473958] | Training error: 2360.00\n",
      "Iteration 54 | Parameters: [1.54475942 0.38139075] | Training error: 2335.71\n",
      "Iteration 55 | Parameters: [1.56814569 0.39425319] | Training error: 2289.67\n",
      "Iteration 56 | Parameters: [1.60678271 0.41588993] | Training error: 2214.28\n",
      "Iteration 57 | Parameters: [1.62204766 0.42459094] | Training error: 2184.71\n",
      "Iteration 58 | Parameters: [1.64867834 0.44003674] | Training error: 2133.35\n",
      "Iteration 59 | Parameters: [1.6691395  0.45210882] | Training error: 2094.12\n",
      "Iteration 60 | Parameters: [1.70290901 0.47237053] | Training error: 2029.91\n",
      "Iteration 61 | Parameters: [1.71430782 0.4793238 ] | Training error: 2008.37\n",
      "Iteration 62 | Parameters: [1.73691851 0.49334243] | Training error: 1965.77\n",
      "Iteration 63 | Parameters: [1.76456653 0.51076069] | Training error: 1914.10\n",
      "Iteration 64 | Parameters: [1.7974581  0.53181129] | Training error: 1853.34\n",
      "Iteration 65 | Parameters: [1.83446887 0.55586829] | Training error: 1785.97\n",
      "Iteration 66 | Parameters: [1.85651476 0.57041858] | Training error: 1746.32\n",
      "Iteration 67 | Parameters: [1.8626119  0.57450366] | Training error: 1735.39\n",
      "Iteration 68 | Parameters: [1.87625614 0.58378175] | Training error: 1710.92\n",
      "Iteration 69 | Parameters: [1.88664967 0.59095328] | Training error: 1692.30\n",
      "Iteration 70 | Parameters: [1.93115107 0.62210426] | Training error: 1613.58\n",
      "Iteration 71 | Parameters: [1.9454666  0.63226829] | Training error: 1588.61\n",
      "Iteration 72 | Parameters: [1.97334037 0.6523374 ] | Training error: 1540.40\n",
      "Iteration 73 | Parameters: [1.99152072 0.66560906] | Training error: 1509.28\n",
      "Iteration 74 | Parameters: [2.02036611 0.68695464] | Training error: 1460.45\n",
      "Iteration 75 | Parameters: [2.0323618  0.69595141] | Training error: 1440.33\n",
      "Iteration 76 | Parameters: [2.03792626 0.7001804 ] | Training error: 1431.00\n",
      "Iteration 77 | Parameters: [2.04333185 0.7043427 ] | Training error: 1421.93\n",
      "Iteration 78 | Parameters: [2.06788659 0.72349541] | Training error: 1380.94\n",
      "Iteration 79 | Parameters: [2.08551836 0.7374245 ] | Training error: 1351.83\n",
      "Iteration 80 | Parameters: [2.10280325 0.75125241] | Training error: 1323.53\n",
      "Iteration 81 | Parameters: [2.13608317 0.77820915] | Training error: 1269.86\n",
      "Iteration 82 | Parameters: [2.15765687 0.79589958] | Training error: 1235.68\n",
      "Iteration 83 | Parameters: [2.17805245 0.81282791] | Training error: 1203.77\n",
      "Iteration 84 | Parameters: [2.21212116 0.84144563] | Training error: 1151.47\n",
      "Iteration 85 | Parameters: [2.221803   0.84967519] | Training error: 1136.82\n",
      "Iteration 86 | Parameters: [2.24644401 0.87086646] | Training error: 1099.94\n",
      "Iteration 87 | Parameters: [2.27215391 0.89323408] | Training error: 1062.18\n",
      "Iteration 88 | Parameters: [2.28673476 0.90606522] | Training error: 1041.07\n",
      "Iteration 89 | Parameters: [2.30576013 0.92299781] | Training error: 1013.86\n",
      "Iteration 90 | Parameters: [2.31073711 0.92747709] | Training error: 1006.79\n",
      "Iteration 91 | Parameters: [2.31591017 0.93218457] | Training error: 999.44\n",
      "Iteration 92 | Parameters: [2.33362372 0.94848104] | Training error: 974.44\n",
      "Iteration 93 | Parameters: [2.35728915 0.97048988] | Training error: 941.63\n",
      "Iteration 94 | Parameters: [2.39924856 1.00993174] | Training error: 885.30\n",
      "Iteration 95 | Parameters: [2.40799282 1.01823878] | Training error: 873.84\n",
      "Iteration 96 | Parameters: [2.42521111 1.03476834] | Training error: 851.53\n",
      "Iteration 97 | Parameters: [2.4394968  1.04862546] | Training error: 833.28\n",
      "Iteration 98 | Parameters: [2.43509507 1.04431177] | Training error: 838.90\n",
      "Iteration 99 | Parameters: [2.44581578 1.05492526] | Training error: 825.20\n",
      "Iteration 100 | Parameters: [2.44286158 1.05197106] | Training error: 828.97\n",
      "Weights: [2.44286158 1.05197106]\n"
     ]
    },
    {
     "data": {
      "image/png": "[encoded data removed]",
      "text/plain": [
       "<Figure size 432x288 with 1 Axes>"
      ]
     },
     "metadata": {
      "needs_background": "light"
     },
     "output_type": "display_data"
    }
   ],
   "source": [
    "weights = linear_regress_gd(x, y, lr=0.01, iterations=100)\n",
    "print(f\"Weights: {weights}\")\n",
    "sns.scatterplot('x', 'y', data=data)\n",
    "plot_polynomial(x.min(), x.max(), weights)\n",
    "plt.show()"
   ]
  },
  {
   "cell_type": "code",
   "execution_count": 13,
   "metadata": {},
   "outputs": [
    {
     "name": "stdout",
     "output_type": "stream",
     "text": [
      "Iteration 1 | Parameters: [0.05010903 0.08668862] | Training error: 5232.50\n",
      "Iteration 2 | Parameters: [0.09984904 0.13443903] | Training error: 5037.84\n",
      "Iteration 3 | Parameters: [0.12859677 0.14737551] | Training error: 4956.67\n",
      "Iteration 4 | Parameters: [0.18203354 0.20455285] | Training error: 4742.17\n",
      "Iteration 5 | Parameters: [0.20981439 0.2259441 ] | Training error: 4648.90\n",
      "Iteration 6 | Parameters: [0.2588657  0.30835031] | Training error: 4401.85\n",
      "Iteration 7 | Parameters: [0.29584721 0.3275807 ] | Training error: 4300.07\n",
      "Iteration 8 | Parameters: [0.34578967 0.37103064] | Training error: 4132.70\n",
      "Iteration 9 | Parameters: [0.39598468 0.45084069] | Training error: 3903.94\n",
      "Iteration 10 | Parameters: [0.43573787 0.46992222] | Training error: 3804.33\n",
      "Iteration 11 | Parameters: [0.47987782 0.50170299] | Training error: 3677.24\n",
      "Iteration 12 | Parameters: [0.52123289 0.55381038] | Training error: 3522.93\n",
      "Iteration 13 | Parameters: [0.5773557  0.63799459] | Training error: 3297.71\n",
      "Iteration 14 | Parameters: [0.60509636 0.65769046] | Training error: 3224.15\n",
      "Iteration 15 | Parameters: [0.66774848 0.76106646] | Training error: 2971.48\n",
      "Iteration 16 | Parameters: [0.7149609  0.84510457] | Training error: 2779.91\n",
      "Iteration 17 | Parameters: [0.75429301 0.85297099] | Training error: 2714.27\n",
      "Iteration 18 | Parameters: [0.78440678 0.87947111] | Training error: 2635.63\n",
      "Iteration 19 | Parameters: [0.80911179 0.90467022] | Training error: 2567.30\n",
      "Iteration 20 | Parameters: [0.82950864 0.92323136] | Training error: 2514.74\n",
      "Iteration 21 | Parameters: [0.86976776 0.92403654] | Training error: 2461.15\n",
      "Iteration 22 | Parameters: [0.88792097 0.93329468] | Training error: 2425.23\n",
      "Iteration 23 | Parameters: [0.91522777 0.97780477] | Training error: 2331.41\n",
      "Iteration 24 | Parameters: [0.93816891 1.00625178] | Training error: 2265.82\n",
      "Iteration 25 | Parameters: [0.99032896 1.01251099] | Training error: 2193.99\n",
      "Iteration 26 | Parameters: [1.01581215 1.03773934] | Training error: 2131.70\n",
      "Iteration 27 | Parameters: [1.05325832 1.10888708] | Training error: 2001.09\n",
      "Iteration 28 | Parameters: [1.08602021 1.16425466] | Training error: 1898.93\n",
      "Iteration 29 | Parameters: [1.10612446 1.18677143] | Training error: 1850.89\n",
      "Iteration 30 | Parameters: [1.13145821 1.23313218] | Training error: 1771.47\n",
      "Iteration 31 | Parameters: [1.17246231 1.26757563] | Training error: 1690.80\n",
      "Iteration 32 | Parameters: [1.18891863 1.2815635 ] | Training error: 1658.91\n",
      "Iteration 33 | Parameters: [1.21093134 1.29895354] | Training error: 1618.23\n",
      "Iteration 34 | Parameters: [1.22347301 1.31024104] | Training error: 1593.92\n",
      "Iteration 35 | Parameters: [1.2346415  1.32509514] | Training error: 1567.56\n",
      "Iteration 36 | Parameters: [1.26045487 1.32896714] | Training error: 1538.25\n",
      "Iteration 37 | Parameters: [1.29207104 1.34445907] | Training error: 1492.18\n",
      "Iteration 38 | Parameters: [1.31081563 1.35214435] | Training error: 1466.75\n",
      "Iteration 39 | Parameters: [1.32076875 1.35821575] | Training error: 1451.43\n",
      "Iteration 40 | Parameters: [1.35188596 1.39182234] | Training error: 1390.37\n",
      "Iteration 41 | Parameters: [1.39211511 1.43567212] | Training error: 1313.66\n",
      "Iteration 42 | Parameters: [1.40452393 1.45689119] | Training error: 1283.72\n",
      "Iteration 43 | Parameters: [1.43908373 1.51045888] | Training error: 1207.60\n",
      "Iteration 44 | Parameters: [1.47030508 1.52263521] | Training error: 1171.60\n",
      "Iteration 45 | Parameters: [1.48992511 1.52832501] | Training error: 1150.98\n",
      "Iteration 46 | Parameters: [1.54123433 1.53294284] | Training error: 1106.49\n",
      "Iteration 47 | Parameters: [1.55904332 1.54398442] | Training error: 1083.87\n",
      "Iteration 48 | Parameters: [1.60359434 1.58586238] | Training error: 1018.01\n",
      "Iteration 49 | Parameters: [1.6208192  1.61032168] | Training error: 987.31\n",
      "Iteration 50 | Parameters: [1.64665327 1.64364763] | Training error: 945.01\n",
      "Weights: [1.64665327 1.64364763]\n"
     ]
    },
    {
     "data": {
      "image/png": "[encoded data removed]",
      "text/plain": [
       "<Figure size 432x288 with 1 Axes>"
      ]
     },
     "metadata": {
      "needs_background": "light"
     },
     "output_type": "display_data"
    }
   ],
   "source": [
    "weights = linear_regress_gd(x, y, lr=0.01, iterations=50, stochastic=True)\n",
    "print(f\"Weights: {weights}\")\n",
    "sns.scatterplot('x', 'y', data=data)\n",
    "plot_polynomial(x.min(), x.max(), weights)\n",
    "plt.show()"
   ]
  },
  {
   "cell_type": "markdown",
   "metadata": {},
   "source": [
    "## Polynomial Regression"
   ]
  },
  {
   "cell_type": "code",
   "execution_count": 14,
   "metadata": {},
   "outputs": [],
   "source": [
    "def PolyRegress(features, labels, d):\n",
    "    x = np.power(features, range(d + 1))\n",
    "    W = np.linalg.inv(x.T.dot(x)).dot(x.T).dot(labels)\n",
    "    return W"
   ]
  },
  {
   "cell_type": "markdown",
   "metadata": {},
   "source": [
    "#### Quadratic Fit"
   ]
  },
  {
   "cell_type": "code",
   "execution_count": 15,
   "metadata": {},
   "outputs": [
    {
     "name": "stdout",
     "output_type": "stream",
     "text": [
      "Weights: [[3.58076915]\n",
      " [0.78341361]\n",
      " [0.49659591]]\n"
     ]
    }
   ],
   "source": [
    "# Quadratic Fit\n",
    "weights = PolyRegress(x, y, 2)\n",
    "print(f\"Weights: {weights}\")"
   ]
  },
  {
   "cell_type": "code",
   "execution_count": 16,
   "metadata": {},
   "outputs": [
    {
     "data": {
      "image/png": "[encoded data removed]",
      "text/plain": [
       "<Figure size 432x288 with 1 Axes>"
      ]
     },
     "metadata": {
      "needs_background": "light"
     },
     "output_type": "display_data"
    }
   ],
   "source": [
    "# Plot Quadratic Fit\n",
    "sns.scatterplot('x', 'y', data=data)\n",
    "plot_polynomial(x.min(), x.max(), weights)\n",
    "plt.show()"
   ]
  },
  {
   "cell_type": "code",
   "execution_count": 17,
   "metadata": {},
   "outputs": [
    {
     "name": "stdout",
     "output_type": "stream",
     "text": [
      "Empirical Risk: 114.060\n"
     ]
    }
   ],
   "source": [
    "# Empirical Risk for d=2\n",
    "error = training_error(x, weights, y)\n",
    "print(f\"Empirical Risk: {error:.3f}\")"
   ]
  },
  {
   "cell_type": "markdown",
   "metadata": {},
   "source": [
    "^ Training error is lower for a quadratic fit than for the linear case."
   ]
  },
  {
   "cell_type": "markdown",
   "metadata": {},
   "source": [
    "#### 3rd to 10th Order Fits"
   ]
  },
  {
   "cell_type": "code",
   "execution_count": 18,
   "metadata": {},
   "outputs": [
    {
     "name": "stdout",
     "output_type": "stream",
     "text": [
      "Degree: 3 | Error: 114.017\n",
      "Degree: 4 | Error: 112.923\n",
      "Degree: 5 | Error: 112.779\n",
      "Degree: 6 | Error: 112.269\n",
      "Degree: 7 | Error: 111.247\n",
      "Degree: 8 | Error: 110.756\n",
      "Degree: 9 | Error: 110.585\n",
      "Degree: 10 | Error: 110.633\n"
     ]
    }
   ],
   "source": [
    "degrees = list(range(3, 11))\n",
    "errors = [training_error(x, PolyRegress(x, y, d), y) for d  in degrees]\n",
    "for d, e in zip(degrees, errors):\n",
    "    print(f\"Degree: {d} | Error: {e:.3f}\")"
   ]
  },
  {
   "cell_type": "code",
   "execution_count": 19,
   "metadata": {},
   "outputs": [
    {
     "data": {
      "image/png": "[encoded data removed]",
      "text/plain": [
       "<Figure size 432x288 with 1 Axes>"
      ]
     },
     "metadata": {
      "needs_background": "light"
     },
     "output_type": "display_data"
    }
   ],
   "source": [
    "sns.lineplot(degrees, errors)\n",
    "plt.xlabel(\"Polynomial Degree\")\n",
    "plt.ylabel(\"Training Error\")\n",
    "plt.show()"
   ]
  },
  {
   "cell_type": "markdown",
   "metadata": {},
   "source": [
    "The training error increases from the 10th order polynomial fit onwards"
   ]
  }
 ],
 "metadata": {
  "kernelspec": {
   "display_name": "Python 3",
   "language": "python",
   "name": "python3"
  },
  "language_info": {
   "codemirror_mode": {
    "name": "ipython",
    "version": 3
   },
   "file_extension": ".py",
   "mimetype": "text/x-python",
   "name": "python",
   "nbconvert_exporter": "python",
   "pygments_lexer": "ipython3",
   "version": "3.7.3"
  }
 },
 "nbformat": 4,
 "nbformat_minor": 2
}
